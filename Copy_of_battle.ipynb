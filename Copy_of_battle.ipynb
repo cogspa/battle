{
  "nbformat": 4,
  "nbformat_minor": 0,
  "metadata": {
    "colab": {
      "name": "Copy of battle.ipynb",
      "private_outputs": true,
      "provenance": [],
      "collapsed_sections": [],
      "background_execution": "on",
      "mount_file_id": "18Uz0sugPvzSqIKv47Cf68V8vTqafu34C",
      "authorship_tag": "ABX9TyPcpcWbDu9QsgovOlE7rGV6",
      "include_colab_link": true
    },
    "kernelspec": {
      "name": "python3",
      "display_name": "Python 3"
    },
    "language_info": {
      "name": "python"
    }
  },
  "cells": [
    {
      "cell_type": "markdown",
      "metadata": {
        "id": "view-in-github",
        "colab_type": "text"
      },
      "source": [
        "<a href=\"https://colab.research.google.com/github/cogspa/battle/blob/main/Copy_of_battle.ipynb\" target=\"_parent\"><img src=\"https://colab.research.google.com/assets/colab-badge.svg\" alt=\"Open In Colab\"/></a>"
      ]
    },
    {
      "cell_type": "code",
      "source": [
        "import random\n",
        "\n",
        "class bcolors:\n",
        "    #what does 003[95 mean]?\n",
        "    HEADER='\\033[95m'\n",
        "    OKBLUE='\\033[94m'\n",
        "    OKGREEN='\\033[92m'\n",
        "    WARNING='\\033[93m'\n",
        "    FAIL='\\033[91m'\n",
        "    ENDC='\\033[0m'\n",
        "    BOLD='\\033[1m'\n",
        "    UNDERLINE='\\033[4m'\n",
        "\n",
        "class Person:\n",
        "    def __init__(self, hp, mp, atk, df, magic):\n",
        "    #store the hp in one variable the holds the initial hp\n",
        "        self.maxhp = hp\n",
        "        self.hp = hp\n",
        "        self.maxhp = mp\n",
        "        self.hp = mp\n",
        "        self.atkl = atk - 10\n",
        "        self.atkh = atk + 10\n",
        "        self.df = df\n",
        "        self.magic = magic\n",
        "        self.actions = [\"Attack\",\"Magic\"]\n",
        "\n",
        "    def generate_damage(self):\n",
        "        return random.randrange(self.atkl, self.atkh)  \n",
        "\n",
        "    def generate_spell_damage(self, i):\n",
        "        mgl = self.magic[i][\"dmg\"] - 5\n",
        "        mgh = self.magic[i][\"dmg\"] + 5\n",
        "        return random.randrange(mgl, mgh)\n",
        "\n",
        "    def take_damage(self, dmg):\n",
        "      self.hp -= dmg\n",
        "      if self.hp < 0:\n",
        "          self.hp = 0\n",
        "      return self.hp\n",
        "\n",
        "#utility classes      \n",
        "\n",
        "    def get_hp(self):\n",
        "        return self.hp\n",
        "\n",
        "    def get_max_hp(self):\n",
        "        return self.maxhp\n",
        "\n",
        "    def get_mp(self):\n",
        "        return self.mp\n",
        "\n",
        "    def get_max_mp(self):\n",
        "        return self.maxmp\n",
        "\n",
        "    def reduce_mp(self, cost):\n",
        "        self.mp -= cost\n",
        "\n",
        "#get the spell name\n",
        "    def get_spell_name(self, i):    \n",
        "        return self.magic[i][\"name\"]     \n",
        "\n",
        "    def get_spell_cost(self, i):\n",
        "        return self.magic[i][\"cost\"]     \n",
        "\n",
        "    def choose_action(self):\n",
        "        i = 1\n",
        "        print(\"actions\")\n",
        "        for item in self.actions:\n",
        "            print(str(i) + \":\", item)\n",
        "            i += 1\n",
        "\n",
        "\n",
        "    def choose_magic(self):\n",
        "        i = 1 \n",
        "        print(\"magic\")\n",
        "        for spell in self.magic:\n",
        "            print(str(i) + \":\", spell[\"name\"], \"(cost:\", str(spell[\"mp\"]) + \")\") \n",
        "            i += 1         "
      ],
      "metadata": {
        "id": "Rljtmw3E4RBu"
      },
      "execution_count": null,
      "outputs": []
    },
    {
      "cell_type": "code",
      "source": [
        "#from classes.game import Person, bcolors\n",
        "\n",
        "magic = [   {\"name\": \"Fire\", \"cost\": 10, \"dmg\": 60},\n",
        "            {\"name\": \"Fire\", \"cost\": 10, \"dmg\": 80},\n",
        "            {\"name\": \"Fire\", \"cost\": 10, \"dmg\": 60}]\n",
        "\n",
        "player = Person (460, 65, 60, 34, magic)\n",
        "\n",
        "running = True\n",
        "i = 0\n",
        "\n",
        "print(bcolors.FAIL + bcolors.BOLD +\"AN ENEMEY ATTACKs!\" + bcolors.ENDC)\n",
        "\n",
        "\n",
        "while running:\n",
        "        print(\"======================\")\n",
        "        player.choose_action()\n",
        "        choice = input(\"Choose action:\")\n",
        "        index = int(choice) -1\n",
        "\n",
        "        print(\"You choose\", index)\n",
        "\n",
        "        running = False\n",
        "\n",
        "print(player.generate_damage())\n",
        "print(player.generate_damage())\n",
        "print(player.generate_damage())\n",
        "print(player.generate_spell_damage(0))\n",
        "print(player.generate_spell_damage(1))"
      ],
      "metadata": {
        "id": "yGuNGzBh37fk"
      },
      "execution_count": null,
      "outputs": []
    },
    {
      "cell_type": "code",
      "source": [
        ""
      ],
      "metadata": {
        "id": "iBiZidaf378x"
      },
      "execution_count": null,
      "outputs": []
    }
  ]
}