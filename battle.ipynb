{
  "nbformat": 4,
  "nbformat_minor": 0,
  "metadata": {
    "colab": {
      "name": "battle.ipynb",
      "private_outputs": true,
      "provenance": [],
      "mount_file_id": "18Uz0sugPvzSqIKv47Cf68V8vTqafu34C",
      "authorship_tag": "ABX9TyO3qbJiVwdWbrEb4uX23HOA",
      "include_colab_link": true
    },
    "kernelspec": {
      "name": "python3",
      "display_name": "Python 3"
    },
    "language_info": {
      "name": "python"
    }
  },
  "cells": [
    {
      "cell_type": "markdown",
      "metadata": {
        "id": "view-in-github",
        "colab_type": "text"
      },
      "source": [
        "<a href=\"https://colab.research.google.com/github/cogspa/battle/blob/main/battle.ipynb\" target=\"_parent\"><img src=\"https://colab.research.google.com/assets/colab-badge.svg\" alt=\"Open In Colab\"/></a>"
      ]
    },
    {
      "cell_type": "code",
      "source": [
        "import random\n",
        "\n",
        "class bcolors:\n",
        "    #what does 003[95 mean]?\n",
        "    HEADER='\\033[95m'\n",
        "    OKBLUE='\\033[94m'\n",
        "    OKGREEN='\\033[92m'\n",
        "    WARNING='\\033[93m'\n",
        "    FAIL='\\033[91m'\n",
        "    ENDC='\\033[0m'\n",
        "    BOLD='\\033[1m'\n",
        "    UNDERLINE='\\033[4m'\n",
        "\n",
        "class Person:\n",
        "    def __init__(self, hp, mp, atk, df, magic):\n",
        "    #store the hp in one variable the holds the initial hp\n",
        "        self.maxhp = hp\n",
        "        self.hp = hp\n",
        "        self.maxhp = mp\n",
        "        self.hp = mp\n",
        "        self.atkl = atk - 10\n",
        "        self.atkh = atk + 10\n",
        "        self.df = df\n",
        "        self.magic = magic\n",
        "        self.actions = [\"Attack\",\"Magic\"]\n",
        "\n",
        "    def generate_damage(self):\n",
        "        return random.randrange(self.atkl, self.atkh)    \n"
      ],
      "metadata": {
        "id": "Rljtmw3E4RBu"
      },
      "execution_count": null,
      "outputs": []
    },
    {
      "cell_type": "code",
      "source": [
        "#from classes.game import Person, bcolors\n",
        "\n",
        "magic = [   {\"name\": \"Fire\", \"cost\": 10, \"dmg\": 60},\n",
        "            {\"name\": \"Fire\", \"cost\": 10, \"dmg\": 60},\n",
        "            {\"name\": \"Fire\", \"cost\": 10, \"dmg\": 60}]\n",
        "\n",
        "player = Person (460, 65, 60, 34, magic)\n",
        "\n",
        "print(player.generate_damage())\n",
        "print(player.generate_damage())\n",
        "print(player.generate_damage())"
      ],
      "metadata": {
        "id": "yGuNGzBh37fk"
      },
      "execution_count": null,
      "outputs": []
    },
    {
      "cell_type": "code",
      "source": [
        ""
      ],
      "metadata": {
        "id": "iBiZidaf378x"
      },
      "execution_count": null,
      "outputs": []
    }
  ]
}